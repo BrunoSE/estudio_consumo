{
 "cells": [
  {
   "cell_type": "code",
   "execution_count": 2,
   "metadata": {},
   "outputs": [],
   "source": [
    "import pandas as pd\n",
    "# %matplotlib widget\n",
    "import matplotlib.pyplot as plt\n",
    "import seaborn as sns\n",
    "sns.set_theme(style=\"darkgrid\")\n",
    "plt.rcParams[\"figure.figsize\"] = (12, 6)\n",
    "plt.rcParams['figure.dpi'] = 100"
   ]
  },
  {
   "cell_type": "code",
   "execution_count": 3,
   "metadata": {},
   "outputs": [
    {
     "name": "stdout",
     "output_type": "stream",
     "text": [
      "Leyendo 2020_11_02\n",
      "Leyendo 2020_11_03\n",
      "Leyendo 2020_11_04\n",
      "Leyendo 2020_11_05\n",
      "Leyendo 2020_11_06\n",
      "Leyendo 2020_11_07\n",
      "Leyendo 2020_11_08\n",
      "Leyendo 2020_11_09\n",
      "Leyendo 2020_11_10\n",
      "Leyendo 2020_11_11\n",
      "Leyendo 2020_11_12\n",
      "Leyendo 2020_11_13\n",
      "Leyendo 2020_11_14\n",
      "Leyendo 2020_11_15\n",
      "Leyendo 2020_11_16\n",
      "Leyendo 2020_11_17\n",
      "Leyendo 2020_11_18\n",
      "Leyendo 2020_11_19\n",
      "Leyendo 2020_11_20\n"
     ]
    }
   ],
   "source": [
    "dict_dia_semana = {}\n",
    "semana = 'raw_semana_2020_11_02'\n",
    "rango_fechas = [x for x in range(2, 9)]\n",
    "dict_dia_semana [semana] = rango_fechas\n",
    "\n",
    "semana = 'raw_semana_2020_11_09'\n",
    "rango_fechas = [x for x in range(9, 16)]\n",
    "dict_dia_semana [semana] = rango_fechas\n",
    "\n",
    "semana = 'raw_semana_2020_11_16'\n",
    "rango_fechas = [x for x in range(16, 21)]\n",
    "dict_dia_semana [semana] = rango_fechas\n",
    "\n",
    "conteo_datos_ele = []\n",
    "conteo_datos_dsl = []\n",
    "\n",
    "for semana in dict_dia_semana:\n",
    "    for i in dict_dia_semana[semana]:\n",
    "        fecha = f'2020_11_{i:02d}'\n",
    "        print(f'Leyendo {fecha}')\n",
    "\n",
    "        df_ele = pd.read_parquet(f'{semana}/raw_data_Ttec_{fecha}.parquet')\n",
    "        \n",
    "        conteo_datos_ele.append(df_ele['patente'].value_counts())\n",
    "        df_dsl = pd.read_parquet(f'{semana}/raw_data_Ttec_dsl_{fecha}.parquet')\n",
    "        conteo_datos_dsl.append(df_dsl['patente'].value_counts())\n"
   ]
  },
  {
   "cell_type": "code",
   "execution_count": 27,
   "metadata": {},
   "outputs": [],
   "source": [
    "df_ele = pd.DataFrame()\n",
    "df_ele['2'] = conteo_datos_ele[0]\n",
    "for i in range(1, len(conteo_datos_ele)):\n",
    "    df_ele = pd.concat([df_ele, conteo_datos_ele[i]], axis=1)\n",
    "    df_ele.rename(columns={'patente': f'{i+2}'}, inplace=True)\n"
   ]
  },
  {
   "cell_type": "code",
   "execution_count": 28,
   "metadata": {},
   "outputs": [],
   "source": [
    "columnas = df_ele.columns\n",
    "df_ele.reset_index(inplace=True)"
   ]
  },
  {
   "cell_type": "code",
   "execution_count": 31,
   "metadata": {},
   "outputs": [],
   "source": [
    "df_ele = pd.melt(df_ele, id_vars=['index'], value_vars=columnas)"
   ]
  },
  {
   "cell_type": "code",
   "execution_count": 33,
   "metadata": {},
   "outputs": [],
   "source": [
    "df_ele.rename(columns={'variable': 'dia', 'value': 'conteo'}, inplace=True)"
   ]
  },
  {
   "cell_type": "code",
   "execution_count": 34,
   "metadata": {},
   "outputs": [],
   "source": [
    "df_ele['Tipo_Bus'] = 'Eléctrico'"
   ]
  },
  {
   "cell_type": "code",
   "execution_count": 35,
   "metadata": {},
   "outputs": [
    {
     "data": {
      "text/html": [
       "<div>\n",
       "<style scoped>\n",
       "    .dataframe tbody tr th:only-of-type {\n",
       "        vertical-align: middle;\n",
       "    }\n",
       "\n",
       "    .dataframe tbody tr th {\n",
       "        vertical-align: top;\n",
       "    }\n",
       "\n",
       "    .dataframe thead th {\n",
       "        text-align: right;\n",
       "    }\n",
       "</style>\n",
       "<table border=\"1\" class=\"dataframe\">\n",
       "  <thead>\n",
       "    <tr style=\"text-align: right;\">\n",
       "      <th></th>\n",
       "      <th>index</th>\n",
       "      <th>dia</th>\n",
       "      <th>conteo</th>\n",
       "      <th>Tipo_Bus</th>\n",
       "    </tr>\n",
       "  </thead>\n",
       "  <tbody>\n",
       "    <tr>\n",
       "      <th>0</th>\n",
       "      <td>PGPT-49</td>\n",
       "      <td>2</td>\n",
       "      <td>146.0</td>\n",
       "      <td>Eléctrico</td>\n",
       "    </tr>\n",
       "    <tr>\n",
       "      <th>1</th>\n",
       "      <td>PFVG-29</td>\n",
       "      <td>2</td>\n",
       "      <td>142.0</td>\n",
       "      <td>Eléctrico</td>\n",
       "    </tr>\n",
       "    <tr>\n",
       "      <th>2</th>\n",
       "      <td>PFYS-52</td>\n",
       "      <td>2</td>\n",
       "      <td>142.0</td>\n",
       "      <td>Eléctrico</td>\n",
       "    </tr>\n",
       "    <tr>\n",
       "      <th>3</th>\n",
       "      <td>PFVC-45</td>\n",
       "      <td>2</td>\n",
       "      <td>141.0</td>\n",
       "      <td>Eléctrico</td>\n",
       "    </tr>\n",
       "    <tr>\n",
       "      <th>4</th>\n",
       "      <td>PGPT-59</td>\n",
       "      <td>2</td>\n",
       "      <td>140.0</td>\n",
       "      <td>Eléctrico</td>\n",
       "    </tr>\n",
       "    <tr>\n",
       "      <th>...</th>\n",
       "      <td>...</td>\n",
       "      <td>...</td>\n",
       "      <td>...</td>\n",
       "      <td>...</td>\n",
       "    </tr>\n",
       "    <tr>\n",
       "      <th>4441</th>\n",
       "      <td>PFYR-68</td>\n",
       "      <td>20</td>\n",
       "      <td>NaN</td>\n",
       "      <td>Eléctrico</td>\n",
       "    </tr>\n",
       "    <tr>\n",
       "      <th>4442</th>\n",
       "      <td>PFVJ-27</td>\n",
       "      <td>20</td>\n",
       "      <td>NaN</td>\n",
       "      <td>Eléctrico</td>\n",
       "    </tr>\n",
       "    <tr>\n",
       "      <th>4443</th>\n",
       "      <td>PGPT-19</td>\n",
       "      <td>20</td>\n",
       "      <td>404.0</td>\n",
       "      <td>Eléctrico</td>\n",
       "    </tr>\n",
       "    <tr>\n",
       "      <th>4444</th>\n",
       "      <td>PFTW-66</td>\n",
       "      <td>20</td>\n",
       "      <td>NaN</td>\n",
       "      <td>Eléctrico</td>\n",
       "    </tr>\n",
       "    <tr>\n",
       "      <th>4445</th>\n",
       "      <td>PFYR-84</td>\n",
       "      <td>20</td>\n",
       "      <td>377.0</td>\n",
       "      <td>Eléctrico</td>\n",
       "    </tr>\n",
       "  </tbody>\n",
       "</table>\n",
       "<p>4446 rows × 4 columns</p>\n",
       "</div>"
      ],
      "text/plain": [
       "        index dia  conteo   Tipo_Bus\n",
       "0     PGPT-49   2   146.0  Eléctrico\n",
       "1     PFVG-29   2   142.0  Eléctrico\n",
       "2     PFYS-52   2   142.0  Eléctrico\n",
       "3     PFVC-45   2   141.0  Eléctrico\n",
       "4     PGPT-59   2   140.0  Eléctrico\n",
       "...       ...  ..     ...        ...\n",
       "4441  PFYR-68  20     NaN  Eléctrico\n",
       "4442  PFVJ-27  20     NaN  Eléctrico\n",
       "4443  PGPT-19  20   404.0  Eléctrico\n",
       "4444  PFTW-66  20     NaN  Eléctrico\n",
       "4445  PFYR-84  20   377.0  Eléctrico\n",
       "\n",
       "[4446 rows x 4 columns]"
      ]
     },
     "execution_count": 35,
     "metadata": {},
     "output_type": "execute_result"
    }
   ],
   "source": [
    "df_ele"
   ]
  },
  {
   "cell_type": "code",
   "execution_count": 36,
   "metadata": {},
   "outputs": [],
   "source": [
    "df_dsl = pd.DataFrame()\n",
    "df_dsl['2'] = conteo_datos_dsl[0]\n",
    "for i in range(1, len(conteo_datos_dsl)):\n",
    "    df_dsl = pd.concat([df_dsl, conteo_datos_dsl[i]], axis=1)\n",
    "    df_dsl.rename(columns={'patente': f'{i+2}'}, inplace=True)\n"
   ]
  },
  {
   "cell_type": "code",
   "execution_count": 37,
   "metadata": {},
   "outputs": [],
   "source": [
    "columnas = df_dsl.columns\n",
    "df_dsl.reset_index(inplace=True)\n",
    "df_dsl = pd.melt(df_dsl, id_vars=['index'], value_vars=columnas)\n",
    "df_dsl.rename(columns={'variable': 'dia', 'value': 'conteo'}, inplace=True)\n",
    "df_dsl['Tipo_Bus'] = 'Diesel'"
   ]
  },
  {
   "cell_type": "code",
   "execution_count": 38,
   "metadata": {},
   "outputs": [
    {
     "data": {
      "text/html": [
       "<div>\n",
       "<style scoped>\n",
       "    .dataframe tbody tr th:only-of-type {\n",
       "        vertical-align: middle;\n",
       "    }\n",
       "\n",
       "    .dataframe tbody tr th {\n",
       "        vertical-align: top;\n",
       "    }\n",
       "\n",
       "    .dataframe thead th {\n",
       "        text-align: right;\n",
       "    }\n",
       "</style>\n",
       "<table border=\"1\" class=\"dataframe\">\n",
       "  <thead>\n",
       "    <tr style=\"text-align: right;\">\n",
       "      <th></th>\n",
       "      <th>index</th>\n",
       "      <th>dia</th>\n",
       "      <th>conteo</th>\n",
       "      <th>Tipo_Bus</th>\n",
       "    </tr>\n",
       "  </thead>\n",
       "  <tbody>\n",
       "    <tr>\n",
       "      <th>0</th>\n",
       "      <td>PFYG-94</td>\n",
       "      <td>2</td>\n",
       "      <td>187.0</td>\n",
       "      <td>Diesel</td>\n",
       "    </tr>\n",
       "    <tr>\n",
       "      <th>1</th>\n",
       "      <td>PDYH-82</td>\n",
       "      <td>2</td>\n",
       "      <td>185.0</td>\n",
       "      <td>Diesel</td>\n",
       "    </tr>\n",
       "    <tr>\n",
       "      <th>2</th>\n",
       "      <td>PDZS-83</td>\n",
       "      <td>2</td>\n",
       "      <td>178.0</td>\n",
       "      <td>Diesel</td>\n",
       "    </tr>\n",
       "    <tr>\n",
       "      <th>3</th>\n",
       "      <td>PFBD-65</td>\n",
       "      <td>2</td>\n",
       "      <td>176.0</td>\n",
       "      <td>Diesel</td>\n",
       "    </tr>\n",
       "    <tr>\n",
       "      <th>4</th>\n",
       "      <td>PDZS-81</td>\n",
       "      <td>2</td>\n",
       "      <td>168.0</td>\n",
       "      <td>Diesel</td>\n",
       "    </tr>\n",
       "    <tr>\n",
       "      <th>...</th>\n",
       "      <td>...</td>\n",
       "      <td>...</td>\n",
       "      <td>...</td>\n",
       "      <td>...</td>\n",
       "    </tr>\n",
       "    <tr>\n",
       "      <th>8184</th>\n",
       "      <td>CJRC-73</td>\n",
       "      <td>20</td>\n",
       "      <td>309.0</td>\n",
       "      <td>Diesel</td>\n",
       "    </tr>\n",
       "    <tr>\n",
       "      <th>8185</th>\n",
       "      <td>FLXJ-57</td>\n",
       "      <td>20</td>\n",
       "      <td>120.0</td>\n",
       "      <td>Diesel</td>\n",
       "    </tr>\n",
       "    <tr>\n",
       "      <th>8186</th>\n",
       "      <td>CJRG-27</td>\n",
       "      <td>20</td>\n",
       "      <td>281.0</td>\n",
       "      <td>Diesel</td>\n",
       "    </tr>\n",
       "    <tr>\n",
       "      <th>8187</th>\n",
       "      <td>PFVK-62</td>\n",
       "      <td>20</td>\n",
       "      <td>331.0</td>\n",
       "      <td>Diesel</td>\n",
       "    </tr>\n",
       "    <tr>\n",
       "      <th>8188</th>\n",
       "      <td>PFYG-87</td>\n",
       "      <td>20</td>\n",
       "      <td>470.0</td>\n",
       "      <td>Diesel</td>\n",
       "    </tr>\n",
       "  </tbody>\n",
       "</table>\n",
       "<p>8189 rows × 4 columns</p>\n",
       "</div>"
      ],
      "text/plain": [
       "        index dia  conteo Tipo_Bus\n",
       "0     PFYG-94   2   187.0   Diesel\n",
       "1     PDYH-82   2   185.0   Diesel\n",
       "2     PDZS-83   2   178.0   Diesel\n",
       "3     PFBD-65   2   176.0   Diesel\n",
       "4     PDZS-81   2   168.0   Diesel\n",
       "...       ...  ..     ...      ...\n",
       "8184  CJRC-73  20   309.0   Diesel\n",
       "8185  FLXJ-57  20   120.0   Diesel\n",
       "8186  CJRG-27  20   281.0   Diesel\n",
       "8187  PFVK-62  20   331.0   Diesel\n",
       "8188  PFYG-87  20   470.0   Diesel\n",
       "\n",
       "[8189 rows x 4 columns]"
      ]
     },
     "execution_count": 38,
     "metadata": {},
     "output_type": "execute_result"
    }
   ],
   "source": [
    "df_dsl"
   ]
  },
  {
   "cell_type": "code",
   "execution_count": 39,
   "metadata": {},
   "outputs": [],
   "source": [
    "df_f = pd.concat([df_ele, df_dsl])"
   ]
  },
  {
   "cell_type": "code",
   "execution_count": 47,
   "metadata": {},
   "outputs": [
    {
     "data": {
      "text/plain": [
       "<matplotlib.patches.Polygon at 0x7f4ee9ff6d90>"
      ]
     },
     "execution_count": 47,
     "metadata": {},
     "output_type": "execute_result"
    },
    {
     "data": {
      "image/png": "[encoded data removed]",
      "text/plain": [
       "<Figure size 1600x600 with 1 Axes>"
      ]
     },
     "metadata": {},
     "output_type": "display_data"
    }
   ],
   "source": [
    "titulo_con_negrita = \"Registros por patente (\" + r\"$\\bf{raw}$\" + \" BD Tracktec Nov2020)\"\n",
    "\n",
    "palette = {'Eléctrico':'purple', 'Diesel':'green'}\n",
    "f, axes = plt.subplots(1, 1, figsize=(16, 6), sharex=True)\n",
    "sns.boxplot(data=df_f, x=df_f['dia'], y=df_f['conteo'], hue='Tipo_Bus', palette=palette, linewidth=0.8)\n",
    "axes.set(xlabel='Dia de Noviembre 2020', ylabel='')\n",
    "plt.title(titulo_con_negrita)\n",
    "plt.axvspan(4.5, 6.4, facecolor='#FFFF6F', alpha=0.3)\n",
    "plt.axvspan(11.5, 13.5, facecolor='#FFFF6F', alpha=0.3)"
   ]
  }
 ],
 "metadata": {
  "kernelspec": {
   "display_name": "Python 3",
   "language": "python",
   "name": "python3"
  },
  "language_info": {
   "codemirror_mode": {
    "name": "ipython",
    "version": 3
   },
   "file_extension": ".py",
   "mimetype": "text/x-python",
   "name": "python",
   "nbconvert_exporter": "python",
   "pygments_lexer": "ipython3",
   "version": "3.8.6"
  }
 },
 "nbformat": 4,
 "nbformat_minor": 4
}
